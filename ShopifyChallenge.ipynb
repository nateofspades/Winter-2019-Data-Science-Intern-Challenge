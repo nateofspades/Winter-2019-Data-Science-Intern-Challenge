{
 "cells": [
  {
   "cell_type": "markdown",
   "metadata": {},
   "source": [
    "# Winter 2019 Data Science Intern Challenge"
   ]
  },
  {
   "cell_type": "markdown",
   "metadata": {},
   "source": [
    "## Question 1 Analysis"
   ]
  },
  {
   "cell_type": "markdown",
   "metadata": {},
   "source": [
    "(*Scroll down to the end of Question 1 if you would prefer a summary of the answers found from the analysis below. Question 2 answers are there too.*)"
   ]
  },
  {
   "cell_type": "code",
   "execution_count": 2,
   "metadata": {},
   "outputs": [],
   "source": [
    "#Load the data\n",
    "library(tidyverse) #For dplyr and ggplot2\n",
    "library(ggthemes)  #Used with ggplot2\n",
    "library(lubridate) #For dates\n",
    "library(repr)      #For sizing graphs\n",
    "\n",
    "#Load the dataset\n",
    "shopify <- read.csv(\"shopify.csv\")"
   ]
  },
  {
   "cell_type": "markdown",
   "metadata": {},
   "source": [
    "Notice that there's something curious happening when we inspect how many transactions are made for each transaction size:"
   ]
  },
  {
   "cell_type": "code",
   "execution_count": 3,
   "metadata": {},
   "outputs": [
    {
     "data": {
      "text/html": [
       "<table>\n",
       "<thead><tr><th scope=col>total_items</th><th scope=col>count_transactions</th></tr></thead>\n",
       "<tbody>\n",
       "\t<tr><td>1   </td><td>1830</td></tr>\n",
       "\t<tr><td>2   </td><td>1832</td></tr>\n",
       "\t<tr><td>3   </td><td> 941</td></tr>\n",
       "\t<tr><td>4   </td><td> 293</td></tr>\n",
       "\t<tr><td>5   </td><td>  77</td></tr>\n",
       "\t<tr><td>6   </td><td>   9</td></tr>\n",
       "\t<tr><td>8   </td><td>   1</td></tr>\n",
       "\t<tr><td>2000</td><td>  17</td></tr>\n",
       "</tbody>\n",
       "</table>\n"
      ],
      "text/latex": [
       "\\begin{tabular}{r|ll}\n",
       " total\\_items & count\\_transactions\\\\\n",
       "\\hline\n",
       "\t 1    & 1830\\\\\n",
       "\t 2    & 1832\\\\\n",
       "\t 3    &  941\\\\\n",
       "\t 4    &  293\\\\\n",
       "\t 5    &   77\\\\\n",
       "\t 6    &    9\\\\\n",
       "\t 8    &    1\\\\\n",
       "\t 2000 &   17\\\\\n",
       "\\end{tabular}\n"
      ],
      "text/markdown": [
       "\n",
       "total_items | count_transactions | \n",
       "|---|---|---|---|---|---|---|---|\n",
       "| 1    | 1830 | \n",
       "| 2    | 1832 | \n",
       "| 3    |  941 | \n",
       "| 4    |  293 | \n",
       "| 5    |   77 | \n",
       "| 6    |    9 | \n",
       "| 8    |    1 | \n",
       "| 2000 |   17 | \n",
       "\n",
       "\n"
      ],
      "text/plain": [
       "  total_items count_transactions\n",
       "1 1           1830              \n",
       "2 2           1832              \n",
       "3 3            941              \n",
       "4 4            293              \n",
       "5 5             77              \n",
       "6 6              9              \n",
       "7 8              1              \n",
       "8 2000          17              "
      ]
     },
     "metadata": {},
     "output_type": "display_data"
    }
   ],
   "source": [
    "items_count <- as.tibble(table(shopify$total_items))\n",
    "colnames(items_count) <- c(\"total_items\", \"count_transactions\")\n",
    "items_count"
   ]
  },
  {
   "cell_type": "markdown",
   "metadata": {},
   "source": [
    "All of the transaction sizes are 8 items or smaller, except for the 17 of size 2000. It's likely that these excessively large transactions are driving up the AOV. Let's inspect this further."
   ]
  },
  {
   "cell_type": "code",
   "execution_count": 4,
   "metadata": {},
   "outputs": [
    {
     "data": {
      "text/html": [
       "<table>\n",
       "<thead><tr><th></th><th scope=col>order_id</th><th scope=col>shop_id</th><th scope=col>user_id</th><th scope=col>order_amount</th><th scope=col>total_items</th><th scope=col>payment_method</th><th scope=col>created_at</th></tr></thead>\n",
       "<tbody>\n",
       "\t<tr><th scope=row>3</th><td> 521               </td><td>42                 </td><td>607                </td><td>704000             </td><td>2000               </td><td>credit_card        </td><td>2017-03-02 04:00:00</td></tr>\n",
       "\t<tr><th scope=row>15</th><td>4647               </td><td>42                 </td><td>607                </td><td>704000             </td><td>2000               </td><td>credit_card        </td><td>2017-03-02 04:00:00</td></tr>\n",
       "\t<tr><th scope=row>2</th><td>  61               </td><td>42                 </td><td>607                </td><td>704000             </td><td>2000               </td><td>credit_card        </td><td>2017-03-04 04:00:00</td></tr>\n",
       "\t<tr><th scope=row>1</th><td>  16               </td><td>42                 </td><td>607                </td><td>704000             </td><td>2000               </td><td>credit_card        </td><td>2017-03-07 04:00:00</td></tr>\n",
       "\t<tr><th scope=row>10</th><td>2298               </td><td>42                 </td><td>607                </td><td>704000             </td><td>2000               </td><td>credit_card        </td><td>2017-03-07 04:00:00</td></tr>\n",
       "\t<tr><th scope=row>6</th><td>1437               </td><td>42                 </td><td>607                </td><td>704000             </td><td>2000               </td><td>credit_card        </td><td>2017-03-11 04:00:00</td></tr>\n",
       "\t<tr><th scope=row>9</th><td>2154               </td><td>42                 </td><td>607                </td><td>704000             </td><td>2000               </td><td>credit_card        </td><td>2017-03-12 04:00:00</td></tr>\n",
       "\t<tr><th scope=row>5</th><td>1363               </td><td>42                 </td><td>607                </td><td>704000             </td><td>2000               </td><td>credit_card        </td><td>2017-03-15 04:00:00</td></tr>\n",
       "\t<tr><th scope=row>8</th><td>1603               </td><td>42                 </td><td>607                </td><td>704000             </td><td>2000               </td><td>credit_card        </td><td>2017-03-17 04:00:00</td></tr>\n",
       "\t<tr><th scope=row>7</th><td>1563               </td><td>42                 </td><td>607                </td><td>704000             </td><td>2000               </td><td>credit_card        </td><td>2017-03-19 04:00:00</td></tr>\n",
       "\t<tr><th scope=row>16</th><td>4869               </td><td>42                 </td><td>607                </td><td>704000             </td><td>2000               </td><td>credit_card        </td><td>2017-03-22 04:00:00</td></tr>\n",
       "\t<tr><th scope=row>4</th><td>1105               </td><td>42                 </td><td>607                </td><td>704000             </td><td>2000               </td><td>credit_card        </td><td>2017-03-24 04:00:00</td></tr>\n",
       "\t<tr><th scope=row>13</th><td>3333               </td><td>42                 </td><td>607                </td><td>704000             </td><td>2000               </td><td>credit_card        </td><td>2017-03-24 04:00:00</td></tr>\n",
       "\t<tr><th scope=row>17</th><td>4883               </td><td>42                 </td><td>607                </td><td>704000             </td><td>2000               </td><td>credit_card        </td><td>2017-03-25 04:00:00</td></tr>\n",
       "\t<tr><th scope=row>11</th><td>2836               </td><td>42                 </td><td>607                </td><td>704000             </td><td>2000               </td><td>credit_card        </td><td>2017-03-28 04:00:00</td></tr>\n",
       "\t<tr><th scope=row>12</th><td>2970               </td><td>42                 </td><td>607                </td><td>704000             </td><td>2000               </td><td>credit_card        </td><td>2017-03-28 04:00:00</td></tr>\n",
       "\t<tr><th scope=row>14</th><td>4057               </td><td>42                 </td><td>607                </td><td>704000             </td><td>2000               </td><td>credit_card        </td><td>2017-03-28 04:00:00</td></tr>\n",
       "</tbody>\n",
       "</table>\n"
      ],
      "text/latex": [
       "\\begin{tabular}{r|lllllll}\n",
       "  & order\\_id & shop\\_id & user\\_id & order\\_amount & total\\_items & payment\\_method & created\\_at\\\\\n",
       "\\hline\n",
       "\t3 &  521                & 42                  & 607                 & 704000              & 2000                & credit\\_card       & 2017-03-02 04:00:00\\\\\n",
       "\t15 & 4647                & 42                  & 607                 & 704000              & 2000                & credit\\_card       & 2017-03-02 04:00:00\\\\\n",
       "\t2 &   61                & 42                  & 607                 & 704000              & 2000                & credit\\_card       & 2017-03-04 04:00:00\\\\\n",
       "\t1 &   16                & 42                  & 607                 & 704000              & 2000                & credit\\_card       & 2017-03-07 04:00:00\\\\\n",
       "\t10 & 2298                & 42                  & 607                 & 704000              & 2000                & credit\\_card       & 2017-03-07 04:00:00\\\\\n",
       "\t6 & 1437                & 42                  & 607                 & 704000              & 2000                & credit\\_card       & 2017-03-11 04:00:00\\\\\n",
       "\t9 & 2154                & 42                  & 607                 & 704000              & 2000                & credit\\_card       & 2017-03-12 04:00:00\\\\\n",
       "\t5 & 1363                & 42                  & 607                 & 704000              & 2000                & credit\\_card       & 2017-03-15 04:00:00\\\\\n",
       "\t8 & 1603                & 42                  & 607                 & 704000              & 2000                & credit\\_card       & 2017-03-17 04:00:00\\\\\n",
       "\t7 & 1563                & 42                  & 607                 & 704000              & 2000                & credit\\_card       & 2017-03-19 04:00:00\\\\\n",
       "\t16 & 4869                & 42                  & 607                 & 704000              & 2000                & credit\\_card       & 2017-03-22 04:00:00\\\\\n",
       "\t4 & 1105                & 42                  & 607                 & 704000              & 2000                & credit\\_card       & 2017-03-24 04:00:00\\\\\n",
       "\t13 & 3333                & 42                  & 607                 & 704000              & 2000                & credit\\_card       & 2017-03-24 04:00:00\\\\\n",
       "\t17 & 4883                & 42                  & 607                 & 704000              & 2000                & credit\\_card       & 2017-03-25 04:00:00\\\\\n",
       "\t11 & 2836                & 42                  & 607                 & 704000              & 2000                & credit\\_card       & 2017-03-28 04:00:00\\\\\n",
       "\t12 & 2970                & 42                  & 607                 & 704000              & 2000                & credit\\_card       & 2017-03-28 04:00:00\\\\\n",
       "\t14 & 4057                & 42                  & 607                 & 704000              & 2000                & credit\\_card       & 2017-03-28 04:00:00\\\\\n",
       "\\end{tabular}\n"
      ],
      "text/markdown": [
       "\n",
       "| <!--/--> | order_id | shop_id | user_id | order_amount | total_items | payment_method | created_at | \n",
       "|---|---|---|---|---|---|---|---|---|---|---|---|---|---|---|---|---|\n",
       "| 3 |  521                | 42                  | 607                 | 704000              | 2000                | credit_card         | 2017-03-02 04:00:00 | \n",
       "| 15 | 4647                | 42                  | 607                 | 704000              | 2000                | credit_card         | 2017-03-02 04:00:00 | \n",
       "| 2 |   61                | 42                  | 607                 | 704000              | 2000                | credit_card         | 2017-03-04 04:00:00 | \n",
       "| 1 |   16                | 42                  | 607                 | 704000              | 2000                | credit_card         | 2017-03-07 04:00:00 | \n",
       "| 10 | 2298                | 42                  | 607                 | 704000              | 2000                | credit_card         | 2017-03-07 04:00:00 | \n",
       "| 6 | 1437                | 42                  | 607                 | 704000              | 2000                | credit_card         | 2017-03-11 04:00:00 | \n",
       "| 9 | 2154                | 42                  | 607                 | 704000              | 2000                | credit_card         | 2017-03-12 04:00:00 | \n",
       "| 5 | 1363                | 42                  | 607                 | 704000              | 2000                | credit_card         | 2017-03-15 04:00:00 | \n",
       "| 8 | 1603                | 42                  | 607                 | 704000              | 2000                | credit_card         | 2017-03-17 04:00:00 | \n",
       "| 7 | 1563                | 42                  | 607                 | 704000              | 2000                | credit_card         | 2017-03-19 04:00:00 | \n",
       "| 16 | 4869                | 42                  | 607                 | 704000              | 2000                | credit_card         | 2017-03-22 04:00:00 | \n",
       "| 4 | 1105                | 42                  | 607                 | 704000              | 2000                | credit_card         | 2017-03-24 04:00:00 | \n",
       "| 13 | 3333                | 42                  | 607                 | 704000              | 2000                | credit_card         | 2017-03-24 04:00:00 | \n",
       "| 17 | 4883                | 42                  | 607                 | 704000              | 2000                | credit_card         | 2017-03-25 04:00:00 | \n",
       "| 11 | 2836                | 42                  | 607                 | 704000              | 2000                | credit_card         | 2017-03-28 04:00:00 | \n",
       "| 12 | 2970                | 42                  | 607                 | 704000              | 2000                | credit_card         | 2017-03-28 04:00:00 | \n",
       "| 14 | 4057                | 42                  | 607                 | 704000              | 2000                | credit_card         | 2017-03-28 04:00:00 | \n",
       "\n",
       "\n"
      ],
      "text/plain": [
       "   order_id shop_id user_id order_amount total_items payment_method\n",
       "3   521     42      607     704000       2000        credit_card   \n",
       "15 4647     42      607     704000       2000        credit_card   \n",
       "2    61     42      607     704000       2000        credit_card   \n",
       "1    16     42      607     704000       2000        credit_card   \n",
       "10 2298     42      607     704000       2000        credit_card   \n",
       "6  1437     42      607     704000       2000        credit_card   \n",
       "9  2154     42      607     704000       2000        credit_card   \n",
       "5  1363     42      607     704000       2000        credit_card   \n",
       "8  1603     42      607     704000       2000        credit_card   \n",
       "7  1563     42      607     704000       2000        credit_card   \n",
       "16 4869     42      607     704000       2000        credit_card   \n",
       "4  1105     42      607     704000       2000        credit_card   \n",
       "13 3333     42      607     704000       2000        credit_card   \n",
       "17 4883     42      607     704000       2000        credit_card   \n",
       "11 2836     42      607     704000       2000        credit_card   \n",
       "12 2970     42      607     704000       2000        credit_card   \n",
       "14 4057     42      607     704000       2000        credit_card   \n",
       "   created_at         \n",
       "3  2017-03-02 04:00:00\n",
       "15 2017-03-02 04:00:00\n",
       "2  2017-03-04 04:00:00\n",
       "1  2017-03-07 04:00:00\n",
       "10 2017-03-07 04:00:00\n",
       "6  2017-03-11 04:00:00\n",
       "9  2017-03-12 04:00:00\n",
       "5  2017-03-15 04:00:00\n",
       "8  2017-03-17 04:00:00\n",
       "7  2017-03-19 04:00:00\n",
       "16 2017-03-22 04:00:00\n",
       "4  2017-03-24 04:00:00\n",
       "13 2017-03-24 04:00:00\n",
       "17 2017-03-25 04:00:00\n",
       "11 2017-03-28 04:00:00\n",
       "12 2017-03-28 04:00:00\n",
       "14 2017-03-28 04:00:00"
      ]
     },
     "metadata": {},
     "output_type": "display_data"
    }
   ],
   "source": [
    "manyItems <- shopify %>%\n",
    "  filter(total_items==2000)\n",
    "\n",
    "#Convert created_at from factor to dttm so we can order by date\n",
    "manyItems$created_at <- ymd_hms(manyItems$created_at)\n",
    "\n",
    "#Order by date\n",
    "manyItems <- manyItems[order(manyItems$created_at),]\n",
    "manyItems\n"
   ]
  },
  {
   "cell_type": "markdown",
   "metadata": {},
   "source": [
    "We see that all of the recorded transactions of size 2000 occurred from the same user_id (607) of the same shop_id (42), and that the order_amount is exactly the same in each case (704000). Moreover, we see that there are some days where there are multiple identical transactions, and all purchases are made at exactly 4 a.m., to the second. Either there was a mistake in the dataset with duplicate entries, or this customer is automating the process of buying shoes in bulk, which he or she will presumably sell at a higher price. <br />\n",
    "\n",
    "There's also something fishy going on when we inspect the maximum order amount for the various transaction sizes:"
   ]
  },
  {
   "cell_type": "code",
   "execution_count": 5,
   "metadata": {},
   "outputs": [
    {
     "data": {
      "text/html": [
       "<table>\n",
       "<thead><tr><th scope=col>total_items</th><th scope=col>mean_order_amount</th><th scope=col>max_order_amount</th><th scope=col>fishy_observation</th></tr></thead>\n",
       "<tbody>\n",
       "\t<tr><td>   1     </td><td>   417.36</td><td> 25725   </td><td>25725    </td></tr>\n",
       "\t<tr><td>   2     </td><td>   750.22</td><td> 51450   </td><td>25725    </td></tr>\n",
       "\t<tr><td>   3     </td><td>  1191.08</td><td> 77175   </td><td>25725    </td></tr>\n",
       "\t<tr><td>   4     </td><td>   947.69</td><td>102900   </td><td>25725    </td></tr>\n",
       "\t<tr><td>   5     </td><td>   759.35</td><td>  1760   </td><td>  352    </td></tr>\n",
       "\t<tr><td>   6     </td><td> 17940.00</td><td>154350   </td><td>25725    </td></tr>\n",
       "\t<tr><td>   8     </td><td>  1064.00</td><td>  1064   </td><td>  133    </td></tr>\n",
       "\t<tr><td>2000     </td><td>704000.00</td><td>704000   </td><td>  352    </td></tr>\n",
       "</tbody>\n",
       "</table>\n"
      ],
      "text/latex": [
       "\\begin{tabular}{r|llll}\n",
       " total\\_items & mean\\_order\\_amount & max\\_order\\_amount & fishy\\_observation\\\\\n",
       "\\hline\n",
       "\t    1      &    417.36 &  25725    & 25725    \\\\\n",
       "\t    2      &    750.22 &  51450    & 25725    \\\\\n",
       "\t    3      &   1191.08 &  77175    & 25725    \\\\\n",
       "\t    4      &    947.69 & 102900    & 25725    \\\\\n",
       "\t    5      &    759.35 &   1760    &   352    \\\\\n",
       "\t    6      &  17940.00 & 154350    & 25725    \\\\\n",
       "\t    8      &   1064.00 &   1064    &   133    \\\\\n",
       "\t 2000      & 704000.00 & 704000    &   352    \\\\\n",
       "\\end{tabular}\n"
      ],
      "text/markdown": [
       "\n",
       "total_items | mean_order_amount | max_order_amount | fishy_observation | \n",
       "|---|---|---|---|---|---|---|---|\n",
       "|    1      |    417.36 |  25725    | 25725     | \n",
       "|    2      |    750.22 |  51450    | 25725     | \n",
       "|    3      |   1191.08 |  77175    | 25725     | \n",
       "|    4      |    947.69 | 102900    | 25725     | \n",
       "|    5      |    759.35 |   1760    |   352     | \n",
       "|    6      |  17940.00 | 154350    | 25725     | \n",
       "|    8      |   1064.00 |   1064    |   133     | \n",
       "| 2000      | 704000.00 | 704000    |   352     | \n",
       "\n",
       "\n"
      ],
      "text/plain": [
       "  total_items mean_order_amount max_order_amount fishy_observation\n",
       "1    1           417.36          25725           25725            \n",
       "2    2           750.22          51450           25725            \n",
       "3    3          1191.08          77175           25725            \n",
       "4    4           947.69         102900           25725            \n",
       "5    5           759.35           1760             352            \n",
       "6    6         17940.00         154350           25725            \n",
       "7    8          1064.00           1064             133            \n",
       "8 2000        704000.00         704000             352            "
      ]
     },
     "metadata": {},
     "output_type": "display_data"
    }
   ],
   "source": [
    "shopify %>% \n",
    "  group_by(total_items) %>%\n",
    "  summarise(mean_order_amount = round(mean(order_amount), 2), \n",
    "            max_order_amount = max(order_amount)) %>%\n",
    "  mutate(fishy_observation = max_order_amount/total_items)\n"
   ]
  },
  {
   "cell_type": "markdown",
   "metadata": {},
   "source": [
    "There are very large maximum order amounts for purchases of 1 item, 2 items, 3 items, 4 items and 6 items. Moreover, when each of these maximum order amounts is divided by the total items bought in its respective transaction, we get 25725. We would never expect an average pair of shoes to cost 25725, and therefore there is probably a specific recording mistake that is being repeated in the dataset. <br />\n",
    "\n",
    "Now how do we handle these potential problems in our dataset? Let's take a look at a scatterplot which shows the order amount for each of our 5000 transactions. "
   ]
  },
  {
   "cell_type": "code",
   "execution_count": 6,
   "metadata": {},
   "outputs": [
    {
     "data": {},
     "metadata": {},
     "output_type": "display_data"
    },
    {
     "data": {
      "image/png": "[encoded data removed]",
      "text/plain": [
       "plot without title"
      ]
     },
     "metadata": {},
     "output_type": "display_data"
    }
   ],
   "source": [
    "#Sizing the graph output\n",
    "options(repr.plot.width=8, repr.plot.height=3)\n",
    "\n",
    "#Creating the graph\n",
    "shopify %>%\n",
    "  ggplot(aes(x=order_id, y=order_amount)) +\n",
    "  geom_point(color=\"blue\", alpha=0.2) + \n",
    "  labs(x='', y=\"Order Amount ($)\", title=\"Most order amounts are of reasonable sizes\", caption=\"Each point is one transaction\") +\n",
    "  scale_y_continuous(breaks=200000*(0:3), labels=c('0', '200000', '400000', '600000')) +\n",
    "  theme_few() + \n",
    "  theme(axis.title.y = element_text(size=10))"
   ]
  },
  {
   "cell_type": "markdown",
   "metadata": {},
   "source": [
    "Notice that most of the transactions are along the dark blue line, which corresponds to purchases that are a few hundred or a few thousand dollars - plausible order amounts when buying at most 8 pairs of shoes. <br />\n",
    "\n",
    "We saw that our original choice of evaluation metric, AOV, is largely affected by the numerous extreme values in this dataset, both from the 2000 item purchases and from the fishy order amounts that were multiples of 25725. To protect our evaluation metric from the effects of these outliers it would therefore be wise to instead use a robust evaluation metric, median, which will be found among the points in the dark blue line."
   ]
  },
  {
   "cell_type": "code",
   "execution_count": 7,
   "metadata": {},
   "outputs": [
    {
     "data": {
      "text/html": [
       "284"
      ],
      "text/latex": [
       "284"
      ],
      "text/markdown": [
       "284"
      ],
      "text/plain": [
       "[1] 284"
      ]
     },
     "metadata": {},
     "output_type": "display_data"
    }
   ],
   "source": [
    "median(shopify$order_amount)"
   ]
  },
  {
   "cell_type": "markdown",
   "metadata": {},
   "source": [
    "## Question 1 Answers (Summary)\n",
    "\n",
    "**Question 1a.** <br />\n",
    "\n",
    "•When using the AOV, we are blindly computing the average order amount without taking into account the number of pairs of shoes purchased in each transaction. <br />\n",
    "•Moreover, there are many transactions that seem questionable/erroneous: <br />\n",
    "-The 17 indentical transactions that included 2000 purchases each are driving up the AOV. <br />\n",
    "-When we group transactions by total_items we see unlikely maximum order amounts that are multiples of 25725 for transaction sizes of 1, 2, 3, 4 and 6 items. These transactions are also driving up the AOV. <br />\n",
    "•Due to the extreme points it would be preferable to use a robust evaluation metric (one which isn't affected by extreme values).\n",
    "\n",
    "\n",
    "**Question 1b.** <br />\n",
    "To protect our evaluation metric from the effects of extreme/erroneous points it would be wise to use a robust evaluation metric: median.\n",
    "\n",
    "**Question 1c.** <br />\n",
    "The median is 284, which is a more reasonable value for our measure of central tendancy than the mean (3145.13) given that we are talking about single-transaction purchases of shoes."
   ]
  },
  {
   "cell_type": "markdown",
   "metadata": {},
   "source": [
    "## Question 2 Answers"
   ]
  },
  {
   "cell_type": "markdown",
   "metadata": {},
   "source": [
    "**Question 2a.** <br />\n",
    "***Answer: 54***\n",
    "\n",
    "SELECT COUNT(*) <br />\n",
    "FROM Orders AS o, Shippers AS s <br /> \n",
    "WHERE o.ShipperId = s.ShipperId AND ShipperName = \"Speedy Express\";\n",
    "\n",
    "**Question 2b.**<br />\n",
    "***Answer: Handel <br />\n",
    "(10 orders)***\n",
    "\n",
    "\n",
    "SELECT c.CustomerName, COUNT(*) AS Count <br />\n",
    "FROM Orders AS o, Customers AS c <br />\n",
    "WHERE o.CustomerID = c.CustomerID <br />\n",
    "GROUP BY o.CustomerID <br />\n",
    "ORDER BY Count DESC <br />\n",
    "LIMIT 1;\n",
    "\n",
    "**Question 2c.** <br />\n",
    "***Answer: Boston Crab Meat <br />\n",
    "(ProductID: 40, TotalQuantity: 160)***\n",
    "\n",
    "SELECT p.ProductID, p.ProductName, SUM(Quantity) AS TotalQuantity <br />\n",
    "FROM Orders AS o, OrderDetails AS od, Customers AS c, Products AS p <br /> \n",
    "WHERE c.Country = \"Germany\" AND od.OrderID = o.OrderID AND od.ProductID = p.ProductID AND c.CustomerID = o.CustomerID <br /> \n",
    "GROUP BY p.ProductID <br />\n",
    "ORDER BY TotalQuantity DESC <br />\n",
    "LIMIT 1;"
   ]
  },
  {
   "cell_type": "code",
   "execution_count": null,
   "metadata": {},
   "outputs": [],
   "source": []
  }
 ],
 "metadata": {
  "kernelspec": {
   "display_name": "R",
   "language": "R",
   "name": "ir"
  },
  "language_info": {
   "codemirror_mode": "r",
   "file_extension": ".r",
   "mimetype": "text/x-r-source",
   "name": "R",
   "pygments_lexer": "r",
   "version": "3.4.1"
  }
 },
 "nbformat": 4,
 "nbformat_minor": 2
}
